{
 "cells": [
  {
   "cell_type": "markdown",
   "metadata": {},
   "source": [
    "# Spark session para utilizar pyspark ou conectar ao postgresql"
   ]
  },
  {
   "cell_type": "code",
   "execution_count": 2,
   "metadata": {},
   "outputs": [
    {
     "name": "stderr",
     "output_type": "stream",
     "text": [
      "WARNING: An illegal reflective access operation has occurred\n",
      "WARNING: Illegal reflective access by org.apache.spark.unsafe.Platform (file:/usr/local/spark-3.1.2-bin-hadoop3.2/jars/spark-unsafe_2.12-3.1.2.jar) to constructor java.nio.DirectByteBuffer(long,int)\n",
      "WARNING: Please consider reporting this to the maintainers of org.apache.spark.unsafe.Platform\n",
      "WARNING: Use --illegal-access=warn to enable warnings of further illegal reflective access operations\n",
      "WARNING: All illegal access operations will be denied in a future release\n",
      "22/10/13 04:25:35 WARN NativeCodeLoader: Unable to load native-hadoop library for your platform... using builtin-java classes where applicable\n",
      "Using Spark's default log4j profile: org/apache/spark/log4j-defaults.properties\n",
      "Setting default log level to \"WARN\".\n",
      "To adjust logging level use sc.setLogLevel(newLevel). For SparkR, use setLogLevel(newLevel).\n"
     ]
    }
   ],
   "source": [
    "from pyspark.sql import SparkSession\n",
    "\n",
    "# Spark session & context\n",
    "spark = (SparkSession\n",
    "         .builder\n",
    "         .master(\"local\")\n",
    "         .appName(\"load-postgres\")\n",
    "         # Add postgres jar\n",
    "         .config(\"spark.driver.extraClassPath\", \"/home/jovyan/work/jars/postgresql-9.4.1207.jar\")\n",
    "         .getOrCreate())\n",
    "sc = spark.sparkContext"
   ]
  },
  {
   "cell_type": "markdown",
   "metadata": {},
   "source": [
    "# Lendo os dados do lake para realizar as consultas"
   ]
  },
  {
   "cell_type": "code",
   "execution_count": 7,
   "metadata": {},
   "outputs": [],
   "source": [
    "path_business = '/usr/local/lake/business/enem/'\n",
    "\n",
    "df_dim_raca = spark.read.load(path= path_business + 'dim_raca/*.parquet', format='parquet')\n",
    "df_dim_localizacao_escola = spark.read.load(path= path_business + 'dim_escola/*.parquet', format='parquet')\n",
    "df_dim_municipio = spark.read.load(path= path_business + 'dim_municipio/*.parquet', format='parquet')\n",
    "df_dim_sexo = spark.read.load(path= path_business + 'dim_sexo/*.parquet', format='parquet')\n",
    "df_dim_situacao_esc = spark.read.load(path= path_business + 'dim_situacao_escola/*.parquet', format='parquet')\n",
    "df_dim_tp_ensino = spark.read.load(path= path_business + 'dim_ensino/*.parquet', format='parquet')\n",
    "df_dim_tp_escola = spark.read.load(path= path_business + 'dim_situacao_escola/*.parquet', format='parquet')\n",
    "df_dim_uf = spark.read.load(path= path_business + 'dim_uf/*.parquet', format='parquet')\n",
    "df_fato_enem = spark.read.load(path= path_business + 'fato_enem/*.parquet', format='parquet')"
   ]
  },
  {
   "cell_type": "code",
   "execution_count": 10,
   "metadata": {},
   "outputs": [],
   "source": [
    "df_dim_raca.createOrReplaceTempView(\"VW_DM_RACA\")\n",
    "df_dim_localizacao_escola.createOrReplaceTempView(\"VW_DM_LOCALIZACAO_ESC\")\n",
    "df_dim_municipio.createOrReplaceTempView(\"VW_DM_MUNICIPIO\")\n",
    "df_dim_sexo.createOrReplaceTempView(\"VW_DM_SEXO\")\n",
    "df_dim_situacao_esc.createOrReplaceTempView(\"VW_DM_SITUACAO_ESC\")\n",
    "df_dim_tp_ensino.createOrReplaceTempView(\"VW_DM_TP_ENSINO\")\n",
    "df_dim_tp_escola.createOrReplaceTempView(\"VW_DM_TP_ESCOLA\")\n",
    "df_dim_uf.createOrReplaceTempView(\"VW_DM_UF\")\n",
    "df_fato_enem.createOrReplaceTempView(\"VW_FATO_ENEM\")"
   ]
  },
  {
   "cell_type": "markdown",
   "metadata": {},
   "source": [
    "# 1- Qual a escola com a maior média de notas?"
   ]
  },
  {
   "cell_type": "code",
   "execution_count": null,
   "metadata": {},
   "outputs": [],
   "source": [
    "query = \"select * from VW_FATO_ENEM\"\n",
    "spark.sql(query).show(truncate=False)"
   ]
  },
  {
   "cell_type": "markdown",
   "metadata": {},
   "source": [
    "# 2 - Qual o aluno com a maior média de notas e o valor dessa média?"
   ]
  },
  {
   "cell_type": "code",
   "execution_count": null,
   "metadata": {},
   "outputs": [],
   "source": [
    "query = \"\"\n",
    "spark.sql(query).show(truncate=False)"
   ]
  },
  {
   "cell_type": "markdown",
   "metadata": {},
   "source": [
    "# 3 - Qual a média geral?"
   ]
  },
  {
   "cell_type": "code",
   "execution_count": null,
   "metadata": {},
   "outputs": [],
   "source": [
    "query = \"\"\n",
    "spark.sql(query).show(truncate=False)"
   ]
  },
  {
   "cell_type": "markdown",
   "metadata": {},
   "source": [
    "# 4 - Qual o % de Ausentes?"
   ]
  },
  {
   "cell_type": "code",
   "execution_count": null,
   "metadata": {},
   "outputs": [],
   "source": [
    "query = \"\"\n",
    "spark.sql(query).show(truncate=False)"
   ]
  },
  {
   "cell_type": "markdown",
   "metadata": {},
   "source": [
    "# 5 - Qual o número total de Inscritos?"
   ]
  },
  {
   "cell_type": "code",
   "execution_count": null,
   "metadata": {},
   "outputs": [],
   "source": [
    "query = \"\"\n",
    "spark.sql(query).show(truncate=False)"
   ]
  },
  {
   "cell_type": "markdown",
   "metadata": {},
   "source": [
    "# 6 - Qual a média por disciplina?"
   ]
  },
  {
   "cell_type": "code",
   "execution_count": null,
   "metadata": {},
   "outputs": [],
   "source": [
    "query = \"\"\n",
    "spark.sql(query).show(truncate=False)"
   ]
  },
  {
   "cell_type": "markdown",
   "metadata": {},
   "source": [
    "# 7 - Qual a média por Sexo?"
   ]
  },
  {
   "cell_type": "code",
   "execution_count": null,
   "metadata": {},
   "outputs": [],
   "source": [
    "query = \"\"\n",
    "spark.sql(query).show(truncate=False)"
   ]
  },
  {
   "cell_type": "markdown",
   "metadata": {},
   "source": [
    "# 8 - Qual a média por Etnia?"
   ]
  },
  {
   "cell_type": "code",
   "execution_count": null,
   "metadata": {},
   "outputs": [],
   "source": [
    "query = \"\"\n",
    "spark.sql(query).show(truncate=False)"
   ]
  }
 ],
 "metadata": {
  "kernelspec": {
   "display_name": "Python 3 (ipykernel)",
   "language": "python",
   "name": "python3"
  },
  "language_info": {
   "codemirror_mode": {
    "name": "ipython",
    "version": 3
   },
   "file_extension": ".py",
   "mimetype": "text/x-python",
   "name": "python",
   "nbconvert_exporter": "python",
   "pygments_lexer": "ipython3",
   "version": "3.9.7"
  }
 },
 "nbformat": 4,
 "nbformat_minor": 4
}
